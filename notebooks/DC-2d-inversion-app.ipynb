{
 "cells": [
  {
   "cell_type": "markdown",
   "metadata": {},
   "source": [
    "# 2D DC Resistivity Inversion"
   ]
  },
  {
   "cell_type": "code",
   "execution_count": 1,
   "metadata": {},
   "outputs": [],
   "source": [
    "from utils.DCResistivity import DCRInversionApp\n",
    "dc_app = DCRInversionApp()"
   ]
  },
  {
   "cell_type": "markdown",
   "metadata": {},
   "source": [
    "# Purpose\n",
    "\n",
    "We load observed DC data, and invert to recover a resistivity model. By altering inversion parameters and exploring correspoding inversion results, we investigate important aspects of the 2D DC resistivity inversion. \n",
    "\n",
    "## Outline\n",
    "This notebook includes four steps:\n",
    "- Step1: Load observed data\n",
    "- Step2: Plot observed data\n",
    "- Step3: Set mesh\n",
    "- Step4: Set uncertainty\n",
    "- Step5: Run inversion\n",
    "- Step6: Explore inversion results\n",
    "- Step7: Run inversion to compute DOI index\n",
    "- Step8: Plot DOI index"
   ]
  },
  {
   "cell_type": "markdown",
   "metadata": {},
   "source": [
    "## Step 1: Load observed data\n",
    "\n",
    "- `filename`: file name for the observed data\n",
    "- `topography`: file name for the topography data\n",
    "- `load`: will load the observation file if this is checked\n",
    "- `input type`: type of the input file"
   ]
  },
  {
   "cell_type": "code",
   "execution_count": 2,
   "metadata": {},
   "outputs": [
    {
     "data": {
      "application/vnd.jupyter.widget-view+json": {
       "model_id": "181b2790967a4b50a77e87429ed90b2d",
       "version_major": 2,
       "version_minor": 0
      },
      "text/plain": [
       "interactive(children=(Dropdown(description='filename: ', index=8, layout=Layout(width='max-content'), options=…"
      ]
     },
     "metadata": {},
     "output_type": "display_data"
    }
   ],
   "source": [
    "dc_app.interact_load_obs()"
   ]
  },
  {
   "cell_type": "markdown",
   "metadata": {},
   "source": [
    "## Step 2: Plot observed data\n",
    "\n",
    "Once loaded, we examine the data. From the *pseudo-section* plot, we can determine the background resistivity of the Earth and highlight any interesting features. To view the data, we can use the following parameters:\n",
    "\n",
    "- `data type`: type of the data\n",
    "- `plot type`: type of the data plot\n",
    "- `aspect ratio`: aspect ratio for pseudo-section plot. Changes size of plot"
   ]
  },
  {
   "cell_type": "code",
   "execution_count": 12,
   "metadata": {},
   "outputs": [
    {
     "data": {
      "application/vnd.jupyter.widget-view+json": {
       "model_id": "3c95fc212e434199a4f6b179c8294d41",
       "version_major": 2,
       "version_minor": 0
      },
      "text/plain": [
       "interactive(children=(ToggleButtons(description='data type', options=('apparent_resistivity', 'volt'), value='…"
      ]
     },
     "metadata": {},
     "output_type": "display_data"
    }
   ],
   "source": [
    "dc_app.interact_plot_obs_data()"
   ]
  },
  {
   "cell_type": "markdown",
   "metadata": {},
   "source": [
    "## Step 3: Set a 2D tensor mesh \n",
    "\n",
    "Designing an mesh is very important. If we use smaller cells in our mesh, we solve the problem more accurately. However, we cannot make the cells too small because it requires too much computer memory. Parameters for designing a mesh are:\n",
    "\n",
    "- `dx`: horizontal cell size\n",
    "- `dz`: vertical cell size\n",
    "- `corezlength`: the depth that the core mesh extends\n",
    "- `xpad`: thickness of padding region in the horizontal direction\n",
    "- `zpad`: thickness of padding region in the vertical direction\n",
    "- `mesh_type`: tensor or tree mesh\n",
    "\n",
    "Some things to consider when designing a mesh:\n",
    "\n",
    "- Using a 'Tree Mesh' will **always** reduce the number of cells.\n",
    "\n",
    "\n",
    "- To choose a good *dx* value, think about the minimum electrode spacing. The value of *dx* should be 25%-40% as large as the minimum electrode spacing. So if minimum electrode spacing is 10 m, you should choose a *dx* between 2.5 m and 4 m.\n",
    "\n",
    "\n",
    "- It is common to let *dz* be the same as *dx*. Sometimes we set *dz* to be half the size of *dx*.\n",
    "\n",
    "\n",
    "- *corezlength* defines a depth limit for where you think most currents are. Below this depth, you are assuming the currents are very small. A good first guess would be to set *corezlength* to be equal to the maximum AB electrode spacing.\n",
    "\n",
    "\n",
    "- The padding (*xpad* and *zpad*) needs to be big enough so that the currents are zero on the edges of your mesh. For a Wenner-Schlumberger survey, set the padding region to be 1-2 times larger than the maximum AB spacing. For a dipole-dipole survey, set the padding region to be 2-3 times larger than the maximum AB spacing"
   ]
  },
  {
   "cell_type": "code",
   "execution_count": 13,
   "metadata": {},
   "outputs": [
    {
     "name": "stdout",
     "output_type": "stream",
     "text": [
      ">> suggested dx: 2.5 m\n",
      ">> suggested dz: 1.25 m\n",
      ">> suggested x padding: 393.3333333333333 m\n",
      ">> suggested z padding: 393.3333333333333 m\n",
      ">> suggested corezlength: 196.66666666666666 m\n"
     ]
    },
    {
     "data": {
      "application/vnd.jupyter.widget-view+json": {
       "model_id": "5bd54c5f2fb74c2a9eb726f59e471652",
       "version_major": 2,
       "version_minor": 0
      },
      "text/plain": [
       "interactive(children=(FloatText(value=2.5, description='dx'), FloatText(value=1.25, description='dz'), FloatTe…"
      ]
     },
     "metadata": {},
     "output_type": "display_data"
    }
   ],
   "source": [
    "dc_app.interact_set_mesh()"
   ]
  },
  {
   "cell_type": "markdown",
   "metadata": {},
   "source": [
    "## Step 4: Set uncertainty\n",
    "\n",
    "The uncertainties are an estimate of the level of noise on your data. If your data have more noise (error bars are larger), you must assign larger uncertainties. The equation for the uncertainty you assign to each data value is:\n",
    "\n",
    "$$ \\text{uncertainty} = 0.01 \\times \\text{percentage}\\times|d^{obs}| + \\text{floor}$$\n",
    "\n",
    "- **percentage (%):** percentage uncertainty\n",
    "- **floor (V):** floor uncertainty. The raw data are volts, not apparent resistivities.\n",
    "\n",
    "For apparent resistivity data, it is common to choose a percentage between 2%-10%. The floor value is usually something very small; less than 0.0001 $\\Omega m$"
   ]
  },
  {
   "cell_type": "code",
   "execution_count": 14,
   "metadata": {},
   "outputs": [
    {
     "data": {
      "application/vnd.jupyter.widget-view+json": {
       "model_id": "14e2444b5f2c4ab0b75f83b964bdca4e",
       "version_major": 2,
       "version_minor": 0
      },
      "text/plain": [
       "interactive(children=(FloatText(value=5.0, description='percentage'), FloatText(value=0.0, description='floor'…"
      ]
     },
     "metadata": {},
     "output_type": "display_data"
    }
   ],
   "source": [
    "dc_app.interact_set_uncertainty()"
   ]
  },
  {
   "cell_type": "markdown",
   "metadata": {},
   "source": [
    "## Step 5: Run inversion\n",
    "\n",
    "Here, we define parameters necessary to complete the inversion. These parameters are:\n",
    "\n",
    "- $\\rho_0$: initial resistivity model\n",
    "- $\\rho_{ref}$: reference resistivity model\n",
    "- $\\alpha_s$: controls how much the inversion wants to recover a model similar to the reference model\n",
    "- $\\alpha_x$: controls how much the inversion wants to recover a model that is horizontally smooth\n",
    "- $\\alpha_z$: controls how much the inversion wants to recover a model that is vertically smooth\n",
    "- `maxIter`: maximum number of iteration (10-15 is ideal)\n",
    "- `chifact`: chifactor for the target misfit\n",
    "- `beta0_ratio`: ratio to set the initial beta (default value is 10)\n",
    "- `coolingFactor`: cooling factor to cool beta (default value is 2)\n",
    "- `n_iter_per_beta`: # of interation for each beta value \n",
    "- `run`: run inversion if this is checked\n",
    "\n",
    "Here are some things to consider when choosing these parameters:\n",
    "\n",
    "- If you make $\\alpha_s$ much larger than $\\alpha_x$ and $\\alpha_z$, the inversion will try very hard to give you an answer that is similar to the reference model. If you make $\\alpha_x$ and $\\alpha_z$ much larger than $\\alpha_s$, the inversion will try very hard to find a smooth model that explains the data. To start, it is good to set $\\alpha_s = 0.01$, $\\alpha_x = 1$ and $\\alpha_z = 1$.\n",
    "- If you set *coolingFactor* to a number equal or larger than 4, you should set the *n_iter_per_beta* to a value of 2. This makes sure you solve the problem accurately.\n",
    "- If the inversion only requires a few iterations, your uncertainties may be too large.\n",
    "- If your inversion does not reach *target misfit*, your uncertainties may be too small. The number of layers and their thicknessess may also be incorrect."
   ]
  },
  {
   "cell_type": "code",
   "execution_count": 15,
   "metadata": {
    "scrolled": false
   },
   "outputs": [
    {
     "data": {
      "application/vnd.jupyter.widget-view+json": {
       "model_id": "0632a9d740c9424bb93467939d320ea0",
       "version_major": 2,
       "version_minor": 0
      },
      "text/plain": [
       "interactive(children=(FloatText(value=504.0, description='$\\\\rho_0$'), FloatText(value=504.0, description='$\\\\…"
      ]
     },
     "metadata": {},
     "output_type": "display_data"
    }
   ],
   "source": [
    "dc_app.interact_run_inversion()"
   ]
  },
  {
   "cell_type": "markdown",
   "metadata": {},
   "source": [
    "## Step 6: Explore inversion results\n",
    "\n",
    "- `iteration`: inversion iteration\n",
    "- `curve type`:type of the curve (this is active when `plot type`=`misfit_curve`)\n",
    "- `scale`: linear or log scale (this is active when `plot type`=`misfit_curve`)\n",
    "- `plot type`: type of the plot\n",
    "- `show grid?`: show mesh grid when this is checked\n",
    "- `show core?`: show only core domain when this is checked. this is better to interpret results.\n",
    "- `aspect ratio`: aspect ratio for data misfit plot"
   ]
  },
  {
   "cell_type": "code",
   "execution_count": 7,
   "metadata": {
    "scrolled": false
   },
   "outputs": [
    {
     "name": "stdout",
     "output_type": "stream",
     "text": [
      ">> no inversion results yet\n"
     ]
    }
   ],
   "source": [
    "dc_app.interact_plot_inversion_results()"
   ]
  },
  {
   "cell_type": "markdown",
   "metadata": {},
   "source": [
    "## Step 7: Run inversion to compute DOI index\n",
    "\n",
    "Depth of investigation (DOI) index can be computed by following equation (Oldenburg and Li, 1999):\n",
    "\n",
    "$$ \\text{doi index} = \\frac{m^1-m^2}{m_{ref}^1-m_{ref}^2}$$\n",
    "\n",
    "where \n",
    "\n",
    "- $m^1$: inversion model 1 (from Step5)\n",
    "- $m^2$: inversion model 2 (same inversion parameters with model 1 except for `m0` and `mref`\n",
    "- $m_{ref}^1$: reference model 1 (used for Step 5)\n",
    "- $m_{ref}^2$: reference model 2 (=$m_{ref}^1 \\times$ factor)\n",
    "\n",
    "Here a constant factor is multiplied to generate a new reference model. \n",
    "Below app will run inversion to obtain another inversion model ($m^2$), which will allow us to \n",
    "compute DOI index in the following app. \n",
    "\n",
    "### Parameters\n",
    "- `factor`: constant factor to compute a new reference model\n",
    "- `run`: if checked, then a new inverion will run"
   ]
  },
  {
   "cell_type": "code",
   "execution_count": 8,
   "metadata": {},
   "outputs": [
    {
     "data": {
      "application/vnd.jupyter.widget-view+json": {
       "model_id": "27a4be7e4d1043c19774a7eec2012ae2",
       "version_major": 2,
       "version_minor": 0
      },
      "text/plain": [
       "interactive(children=(FloatText(value=0.5, description='factor'), Checkbox(value=False, description='run'), Ou…"
      ]
     },
     "metadata": {},
     "output_type": "display_data"
    }
   ],
   "source": [
    "dc_app.interact_run_doi()"
   ]
  },
  {
   "cell_type": "markdown",
   "metadata": {},
   "source": [
    "##  Step 8: Plot DOI index\n",
    "\n",
    "\n",
    "- `plot type`: type of the plot\n",
    "- `doi_level`: level of the doi index\n",
    "- `scale`: linear or log scale (this is active when `plot type`=`models` or `final`)\n",
    "- `show grid?`: show mesh grid when this is checked\n",
    "- `show core?`: show only core domain when this is checked\n",
    "- `aspect_ratio`: vertical to horizontal ratio"
   ]
  },
  {
   "cell_type": "code",
   "execution_count": 9,
   "metadata": {},
   "outputs": [
    {
     "name": "stdout",
     "output_type": "stream",
     "text": [
      ">> an inversion for doi calculation is needed to be run\n"
     ]
    }
   ],
   "source": [
    "dc_app.interact_plot_doi_results()"
   ]
  }
 ],
 "metadata": {
  "kernelspec": {
   "display_name": "Python 3",
   "language": "python",
   "name": "python3"
  },
  "language_info": {
   "codemirror_mode": {
    "name": "ipython",
    "version": 3
   },
   "file_extension": ".py",
   "mimetype": "text/x-python",
   "name": "python",
   "nbconvert_exporter": "python",
   "pygments_lexer": "ipython3",
   "version": "3.7.4"
  }
 },
 "nbformat": 4,
 "nbformat_minor": 2
}
